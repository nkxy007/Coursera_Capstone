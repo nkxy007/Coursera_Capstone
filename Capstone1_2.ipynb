{
 "cells": [
  {
   "cell_type": "markdown",
   "metadata": {},
   "source": [
    "# Title: Facilitate search of place to live based on geolocation data and Foursquare provided data- case study Sydney/Australia"
   ]
  },
  {
   "cell_type": "markdown",
   "metadata": {},
   "source": [
    "### Problem statement: "
   ]
  },
  {
   "cell_type": "markdown",
   "metadata": {},
   "source": [
    "Sydney is a big multicultural city in which many people migration to Australia try to go and live in. But people coming to live in Sydney do not have a quick way to choose which neighborhood to live in based on types of venues they like.\n",
    "This data can also be used by people trying to open business in  different neighborhoods by checking what are the most popular venues there and make decisions accordingly. i.e if a venues has many clinics , you can open a pharmacy there."
   ]
  },
  {
   "cell_type": "markdown",
   "metadata": {},
   "source": [
    "## Approach:"
   ]
  },
  {
   "cell_type": "markdown",
   "metadata": {},
   "source": [
    "The main objective of this project, is to facilitate users looking to live close to different venues. i.e Church or Asian Restaurant or Schools or Clinics .... \n",
    "This will be achieved by gathering geolocation data on different neighbourhoods in Sydney and using data from Foursquare, gather closest venues to each neighborhood. \n",
    "Clusters will be created to show which neighborhoods fall into different categories. And with this data in hand  one can chose a place to live in based on which cluster the neighborhoods falls in.\n",
    "Where the dat is collected from and the way it is collected is described in below sections.\n"
   ]
  },
  {
   "cell_type": "markdown",
   "metadata": {},
   "source": [
    "Requirement:\n",
    "------------\n",
    "Get the neighborhood and Area code.\n",
    "Get the geolocation data for different neighborhoods. \n",
    "Get venues for each neighborhoods at least 1km from neighborhood center.\n",
    "Use clustering techniques to learn more about the neighborhoods.\n",
    "\n",
    "\n",
    "Data Collection:\n",
    "----------------\n",
    "The neighborhood and Area code will be collected from from https://www.matthewproctor.com/full_australian_postcodes_nsw and their corresponding longitude and latitude information will be done using geocoder module.\n",
    "\n",
    "Data understanding and preparation:\n",
    "-----------------------------------\n",
    "Clean up the data to remove irrelevant info and duplicate from the neighborhood and Area code dataset if they exist then add geolocation data to neighboorhood and area code data. Use Foursquare API to gather venues in different area codes \n",
    "create a dataframe with Area code, Neighborhood and venues\n",
    "\n",
    "Data Modeling:\n",
    "--------------\n",
    "Using Kmeans clustering, I will create  clusters based on top venues in neighborhood\n",
    "and based on clusters top venues I will name their categories in a human friendly way\n",
    "so that people who need to make decision based on that can decide quickly\n",
    "\n",
    "Data evaluation:\n",
    "----------------\n",
    "I will assess the clusters created and check if no bias is created by the model."
   ]
  },
  {
   "cell_type": "code",
   "execution_count": null,
   "metadata": {},
   "outputs": [],
   "source": []
  }
 ],
 "metadata": {
  "kernelspec": {
   "display_name": "Python",
   "language": "python",
   "name": "conda-env-python-py"
  },
  "language_info": {
   "codemirror_mode": {
    "name": "ipython",
    "version": 3
   },
   "file_extension": ".py",
   "mimetype": "text/x-python",
   "name": "python",
   "nbconvert_exporter": "python",
   "pygments_lexer": "ipython3",
   "version": "3.6.11"
  }
 },
 "nbformat": 4,
 "nbformat_minor": 4
}
